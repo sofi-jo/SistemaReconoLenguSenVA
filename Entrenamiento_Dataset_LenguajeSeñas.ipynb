{
  "nbformat": 4,
  "nbformat_minor": 0,
  "metadata": {
    "colab": {
      "provenance": [],
      "gpuType": "T4",
      "private_outputs": true,
      "collapsed_sections": [
        "eHiV-oaJb1lj",
        "9Dtd469WfznW"
      ],
      "authorship_tag": "ABX9TyNG+3AhPMPObb4HU6wDdGc5",
      "include_colab_link": true
    },
    "kernelspec": {
      "name": "python3",
      "display_name": "Python 3"
    },
    "language_info": {
      "name": "python"
    },
    "accelerator": "GPU"
  },
  "cells": [
    {
      "cell_type": "markdown",
      "metadata": {
        "id": "view-in-github",
        "colab_type": "text"
      },
      "source": [
        "<a href=\"https://colab.research.google.com/github/sofi-jo/SistemaReconoLenguSenVA/blob/main/Entrenamiento_Dataset_LenguajeSe%C3%B1as.ipynb\" target=\"_parent\"><img src=\"https://colab.research.google.com/assets/colab-badge.svg\" alt=\"Open In Colab\"/></a>"
      ]
    },
    {
      "cell_type": "markdown",
      "source": [
        "Antes de correr el código debemos tener el entorno en GPU\n",
        "\n",
        "# **Instalación de paquetes**"
      ],
      "metadata": {
        "id": "eHiV-oaJb1lj"
      }
    },
    {
      "cell_type": "code",
      "execution_count": null,
      "metadata": {
        "id": "oAo2NAgmbxhi"
      },
      "outputs": [],
      "source": [
        "%%capture\n",
        "!pip install super-gradients==3.1.0\n",
        "!pip install imutils\n",
        "!pip install roboflow\n",
        "!pip install pytube --upgrade"
      ]
    },
    {
      "cell_type": "markdown",
      "source": [
        "**super-gradients** es una biblioteca de entrenamiento de código abierto para modelos de aprendizaje profundo basados en PyTorch. Permite entrenar o ajustar modelos de visión por computadora de última generación\n",
        "\n",
        "**imutils** es una biblioteca de Python que proporciona una serie de funciones útiles para trabajar con imágenes, como redimensionar, rotar y recortar imágenes\n",
        "\n",
        "**roboflow** es una plataforma de entrenamiento de modelos de aprendizaje profundo que proporciona herramientas para etiquetar y preparar conjuntos de datos de imágenes para el entrenamiento de modelos\n",
        "\n",
        "**pytube** es una biblioteca de Python que permite descargar videos de YouTube y extraer información de ellos\n"
      ],
      "metadata": {
        "id": "Kuh5gPkiGle8"
      }
    },
    {
      "cell_type": "markdown",
      "source": [
        "Reiniciar tiempo de ejecución\n",
        "\n",
        "# **Importación de las librerías requeridas**"
      ],
      "metadata": {
        "id": "9Dtd469WfznW"
      }
    },
    {
      "cell_type": "markdown",
      "source": [
        " SuperGradients es una biblioteca de entrenamiento de código abierto para modelos de aprendizaje profundo basados en PyTorch. Permite entrenar o ajustar modelos de visión por computadora de última generación.\n",
        "La clase Trainer se utiliza para crear un objeto de entrenamiento para entrenar modelos. Tiene varios parámetros que se pueden especificar, como el nombre del experimento y los parámetros de entrenamiento. El módulo dataloaders proporciona funciones para cargar conjuntos de datos en el formato YOLO para entrenamiento y validación."
      ],
      "metadata": {
        "id": "5v4r8fGzGKVd"
      }
    },
    {
      "cell_type": "code",
      "source": [
        "from super_gradients.training import Trainer\n",
        "from super_gradients.training import dataloaders\n",
        "from super_gradients.training.dataloaders.dataloaders import coco_detection_yolo_format_train, coco_detection_yolo_format_val"
      ],
      "metadata": {
        "id": "Pq9kExWegFu9"
      },
      "execution_count": null,
      "outputs": []
    },
    {
      "cell_type": "code",
      "source": [
        "from IPython.display import clear_output"
      ],
      "metadata": {
        "id": "0EjuCM7_gIFt"
      },
      "execution_count": null,
      "outputs": []
    },
    {
      "cell_type": "code",
      "source": [
        "from super_gradients.training.losses import PPYoloELoss\n",
        "from super_gradients.training.metrics import DetectionMetrics_050\n",
        "from super_gradients.training.models.detection_models.pp_yolo_e import PPYoloEPostPredictionCallback\n"
      ],
      "metadata": {
        "id": "2ly3wIpmgK4H"
      },
      "execution_count": null,
      "outputs": []
    },
    {
      "cell_type": "code",
      "source": [
        "from super_gradients.training import models\n"
      ],
      "metadata": {
        "id": "omWlIXCvgNDU"
      },
      "execution_count": null,
      "outputs": []
    },
    {
      "cell_type": "markdown",
      "source": [
        "# Check Point e Inicialización de entrenador"
      ],
      "metadata": {
        "id": "z05O0TZ4yGnf"
      }
    },
    {
      "cell_type": "code",
      "source": [
        "CHECKPOINT_DIR = 'checkpoints2'\n",
        "trainer = Trainer(experiment_name='sign_yolonas_run2', ckpt_root_dir=CHECKPOINT_DIR)"
      ],
      "metadata": {
        "id": "8d0b0o6byUIW"
      },
      "execution_count": null,
      "outputs": []
    },
    {
      "cell_type": "markdown",
      "source": [
        "# **Exportar Dataset Roboflow a Google Colab**"
      ],
      "metadata": {
        "id": "I0K4Y-YnyVqk"
      }
    },
    {
      "cell_type": "code",
      "source": [
        "!pip install roboflow\n",
        "\n",
        "from roboflow import Roboflow\n",
        "rf = Roboflow(api_key=\"IuYv6KOKs5p62rFSLvGa\")\n",
        "project = rf.workspace(\"david-lee-d0rhs\").project(\"american-sign-language-letters\")\n",
        "dataset = project.version(6).download(\"yolov5\")"
      ],
      "metadata": {
        "id": "ZSSLAY1JydCu"
      },
      "execution_count": null,
      "outputs": []
    },
    {
      "cell_type": "markdown",
      "source": [
        "# **Parametros de dataset en un diccionario**"
      ],
      "metadata": {
        "id": "PRm3p25vyjLK"
      }
    },
    {
      "cell_type": "code",
      "source": [
        "dataset_params = {\n",
        "    'data_dir':'/content/American-Sign-Language-Letters-6',\n",
        "    'train_images_dir':'train/images',\n",
        "    'train_labels_dir':'train/labels',\n",
        "    'val_images_dir':'valid/images',\n",
        "    'val_labels_dir':'valid/labels',\n",
        "    'test_images_dir':'test/images',\n",
        "    'test_labels_dir':'test/labels',\n",
        "    'classes': ['A', 'B', 'C', 'D', 'E', 'F', 'G','H', 'I', 'J', 'K', 'L','M','N','O', 'P', 'Q', 'R', 'S', 'T', 'U',  'V', 'W', 'X', 'Y', 'Z']\n",
        "}"
      ],
      "metadata": {
        "id": "030S2Fs-ynjs"
      },
      "execution_count": null,
      "outputs": []
    },
    {
      "cell_type": "markdown",
      "source": [
        "Parametros a argumentos"
      ],
      "metadata": {
        "id": "-feseBVsy0Ro"
      }
    },
    {
      "cell_type": "code",
      "source": [
        "train_data = coco_detection_yolo_format_train(\n",
        "    dataset_params={\n",
        "        'data_dir': dataset_params['data_dir'],\n",
        "        'images_dir': dataset_params['train_images_dir'],\n",
        "        'labels_dir': dataset_params['train_labels_dir'],\n",
        "        'classes': dataset_params['classes']\n",
        "    },\n",
        "    dataloader_params={\n",
        "        'batch_size':16,\n",
        "        'num_workers':2\n",
        "    }\n",
        ")\n",
        "\n",
        "val_data = coco_detection_yolo_format_val(\n",
        "    dataset_params={\n",
        "        'data_dir': dataset_params['data_dir'],\n",
        "        'images_dir': dataset_params['val_images_dir'],\n",
        "        'labels_dir': dataset_params['val_labels_dir'],\n",
        "        'classes': dataset_params['classes']\n",
        "    },\n",
        "    dataloader_params={\n",
        "        'batch_size':16,\n",
        "        'num_workers':2\n",
        "    }\n",
        ")\n",
        "\n",
        "test_data = coco_detection_yolo_format_val(\n",
        "    dataset_params={\n",
        "        'data_dir': dataset_params['data_dir'],\n",
        "        'images_dir': dataset_params['test_images_dir'],\n",
        "        'labels_dir': dataset_params['test_labels_dir'],\n",
        "        'classes': dataset_params['classes']\n",
        "    },\n",
        "    dataloader_params={\n",
        "        'batch_size':16,\n",
        "        'num_workers':2\n",
        "    }\n",
        ")\n",
        "\n",
        "clear_output()"
      ],
      "metadata": {
        "id": "-qRBoNcIy0sk"
      },
      "execution_count": null,
      "outputs": []
    },
    {
      "cell_type": "markdown",
      "source": [
        "# **Inspeccionar data set definido previamente**"
      ],
      "metadata": {
        "id": "vGLWsOynJgsI"
      }
    },
    {
      "cell_type": "code",
      "source": [
        "train_data.dataset.transforms"
      ],
      "metadata": {
        "id": "O6Xzsy_SJmwI"
      },
      "execution_count": null,
      "outputs": []
    },
    {
      "cell_type": "code",
      "source": [
        "train_data.dataset.dataset_params['transforms'][1]"
      ],
      "metadata": {
        "id": "lCxG2o22JrQq"
      },
      "execution_count": null,
      "outputs": []
    },
    {
      "cell_type": "code",
      "source": [
        "train_data.dataset.dataset_params['transforms'][1]['DetectionRandomAffine']['degrees'] = 10.42"
      ],
      "metadata": {
        "id": "ToZi8CVFK2ly"
      },
      "execution_count": null,
      "outputs": []
    },
    {
      "cell_type": "code",
      "source": [
        "train_data.dataset.plot()"
      ],
      "metadata": {
        "id": "kKTC7NT_LB4S"
      },
      "execution_count": null,
      "outputs": []
    },
    {
      "cell_type": "markdown",
      "source": [
        "# **Iniciar el modelo**"
      ],
      "metadata": {
        "id": "Al2UAiwrOCTW"
      }
    },
    {
      "cell_type": "markdown",
      "source": [
        "Una vez iniciado el modelo con lo previo. A continuación iniciamos el modelo para finetuning. Se debe agregar el num_classes que iniciamos previamente aquí"
      ],
      "metadata": {
        "id": "yjaQhj1uOH-1"
      }
    },
    {
      "cell_type": "code",
      "source": [
        "model = models.get('yolo_nas_s',\n",
        "                   num_classes=len(dataset_params['classes']),\n",
        "                   pretrained_weights=\"coco\"\n",
        "                   )"
      ],
      "metadata": {
        "id": "u8KKLRgeOFlk"
      },
      "execution_count": null,
      "outputs": []
    },
    {
      "cell_type": "markdown",
      "source": [
        "# **Definir metricas y parametros de entramiento**"
      ],
      "metadata": {
        "id": "V7YQ_FmBOGvb"
      }
    },
    {
      "cell_type": "markdown",
      "source": [
        "Se debe definir los paramentros de entrenamiento para que el entrenamiento pueda empezar\n",
        "\n",
        "## **Existen paramentros obligatorios que se deben definir para los paramentro de entrenamiento**\n",
        "\n",
        "\n",
        "\n",
        "*   max_epochs - El el numero maximo de epoch de entrenamiento\n",
        "*   loss - la cantidad de perdida que vamos a usar\n",
        "*   optimizer - Optimizer que se usara\n",
        "*   train_metrics_list - metricas que se cargan durante del entrenamiento\n",
        "*   valid_metrics_list - metricas que se cargan durante del entrenamiento\n",
        "*   metric_to_watch - metricas en donde se guardara el checkpoint\n",
        "\n",
        "\n",
        "\n"
      ],
      "metadata": {
        "id": "eEq5NqNpOhyX"
      }
    },
    {
      "cell_type": "markdown",
      "source": [],
      "metadata": {
        "id": "Xb120b69OzYZ"
      }
    },
    {
      "cell_type": "code",
      "source": [
        "train_params = {\n",
        "    # ENABLING SILENT MODE\n",
        "    'silent_mode': True,\n",
        "    \"average_best_models\":True,\n",
        "    \"warmup_mode\": \"linear_epoch_step\",\n",
        "    \"warmup_initial_lr\": 1e-6,\n",
        "    \"lr_warmup_epochs\": 3,\n",
        "    \"initial_lr\": 5e-4,\n",
        "    \"lr_mode\": \"cosine\",\n",
        "    \"cosine_final_lr_ratio\": 0.1,\n",
        "    \"optimizer\": \"Adam\",\n",
        "    \"optimizer_params\": {\"weight_decay\": 0.0001},\n",
        "    \"zero_weight_decay_on_bias_and_bn\": True,\n",
        "    \"ema\": True,\n",
        "    \"ema_params\": {\"decay\": 0.9, \"decay_type\": \"threshold\"},\n",
        "    # ONLY TRAINING FOR 10 EPOCHS FOR THIS EXAMPLE NOTEBOOK\n",
        "    \"max_epochs\": 25,\n",
        "    \"mixed_precision\": True,\n",
        "    \"loss\": PPYoloELoss(\n",
        "        use_static_assigner=False,\n",
        "        # NOTE: num_classes needs to be defined here\n",
        "        num_classes=len(dataset_params['classes']),\n",
        "        reg_max=16\n",
        "    ),\n",
        "    \"valid_metrics_list\": [\n",
        "        DetectionMetrics_050(\n",
        "            score_thres=0.1,\n",
        "            top_k_predictions=300,\n",
        "            # NOTE: num_classes needs to be defined here\n",
        "            num_cls=len(dataset_params['classes']),\n",
        "            normalize_targets=True,\n",
        "            post_prediction_callback=PPYoloEPostPredictionCallback(\n",
        "                score_threshold=0.01,\n",
        "                nms_top_k=1000,\n",
        "                max_predictions=300,\n",
        "                nms_threshold=0.7\n",
        "            )\n",
        "        )\n",
        "    ],\n",
        "    \"metric_to_watch\": 'mAP@0.50'\n",
        "}"
      ],
      "metadata": {
        "id": "K1-8vfBZOhZY"
      },
      "execution_count": null,
      "outputs": []
    },
    {
      "cell_type": "markdown",
      "source": [
        "# **Videos Demo para entrenamiento**"
      ],
      "metadata": {
        "id": "54gb1GviIeE-"
      }
    },
    {
      "cell_type": "code",
      "source": [
        "!gdown \"https://drive.google.com/uc?id=1bLlfh9gr6JxE9Wacw4xgv5FNijA7j9GZ&confirm=t\""
      ],
      "metadata": {
        "id": "K-y1Tka-IdX8"
      },
      "execution_count": null,
      "outputs": []
    },
    {
      "cell_type": "code",
      "source": [
        "!gdown \"https://drive.google.com/uc?id=1kju9OOo05c5XTfrKuLvsZcxu_NPloQk_&confirm=t\""
      ],
      "metadata": {
        "id": "IixsgRxfIkH6"
      },
      "execution_count": null,
      "outputs": []
    },
    {
      "cell_type": "markdown",
      "source": [
        "# **Entrenamiento del Modelo**"
      ],
      "metadata": {
        "id": "0qi1MLMsIrCe"
      }
    },
    {
      "cell_type": "code",
      "source": [
        "trainer.train(model=model,\n",
        "              training_params=train_params,\n",
        "              train_loader=train_data,\n",
        "              valid_loader=val_data)"
      ],
      "metadata": {
        "id": "iaKrqgCwIz22"
      },
      "execution_count": null,
      "outputs": []
    },
    {
      "cell_type": "code",
      "source": [
        "best_model = models.get('yolo_nas_s',\n",
        "                        num_classes=len(dataset_params['classes']),\n",
        "                        checkpoint_path=\"checkpoints2/sign_yolonas_run2/ckpt_best.pth\")"
      ],
      "metadata": {
        "id": "Li6O-w7sI5W2"
      },
      "execution_count": null,
      "outputs": []
    }
  ]
}